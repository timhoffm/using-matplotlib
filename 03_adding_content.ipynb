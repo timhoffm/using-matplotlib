{
 "cells": [
  {
   "cell_type": "markdown",
   "metadata": {},
   "source": [
    "# Adding content"
   ]
  },
  {
   "cell_type": "code",
   "execution_count": null,
   "metadata": {},
   "outputs": [],
   "source": [
    "%matplotlib inline\n",
    "import matplotlib.pyplot as plt\n",
    "import numpy as np"
   ]
  },
  {
   "cell_type": "markdown",
   "metadata": {},
   "source": [
    "For simplicity, this section mainly uses `pyplot` plotting functions. However, the same applies to the corresponding `Axes` methods."
   ]
  },
  {
   "cell_type": "code",
   "execution_count": null,
   "metadata": {},
   "outputs": [],
   "source": [
    "x = np.linspace(-10, 10, 201)\n",
    "y = np.sin(x)\n",
    "\n",
    "fig, ax = plt.subplots()\n",
    "ax.plot(x, y)"
   ]
  },
  {
   "cell_type": "markdown",
   "metadata": {},
   "source": [
    "## Explicit styling with color, marker and linestyle\n",
    "\n",
    "`plot()` draws lines and/or markers at the given points"
   ]
  },
  {
   "cell_type": "markdown",
   "metadata": {},
   "source": [
    "### Styling with format strings\n",
    "\n",
    "Inspired by MATLAB.\n",
    "\n",
    "A format string consists of a part for color, marker and line:\n",
    "\n",
    "~~~\n",
    "fmt = '[marker][line][color]'\n",
    "~~~\n",
    "\n",
    "https://matplotlib.org/stable/api/_as_gen/matplotlib.axes.Axes.plot.html (scroll down)"
   ]
  },
  {
   "cell_type": "code",
   "execution_count": null,
   "metadata": {},
   "outputs": [],
   "source": [
    "x = np.linspace(0, 2*np.pi, 20)\n",
    "y = np.sin(x)\n",
    "fig, (ax1, ax2, ax3) = plt.subplots(1, 3, figsize=(9, 3), sharey=True)\n",
    "ax1.plot(x, y, 'o-')\n",
    "ax2.plot(x, y, 'gx')\n",
    "ax3.plot(x, y, 'r--')"
   ]
  },
  {
   "cell_type": "markdown",
   "metadata": {},
   "source": [
    "### Task\n",
    "Create the same plot but using keyword arguments `marker`, `linestyle` and `color` instead of the format string."
   ]
  },
  {
   "cell_type": "code",
   "execution_count": null,
   "metadata": {},
   "outputs": [],
   "source": [
    "fig, (ax1, ax2, ax3) = plt.subplots(1, 3, figsize=(9, 3), sharey=True)\n",
    "ax1.plot(x, y, marker='o')\n",
    "ax2.plot(x, y, marker='x', linestyle='none', color='green')\n",
    "ax3.plot(x, y, marker='', linestyle='--', color='red')"
   ]
  },
  {
   "cell_type": "markdown",
   "metadata": {},
   "source": [
    "### Notes\n",
    "\n",
    "- Format strings are a handy shortcut for customization\n",
    "- They offer only a subset of the styling capabilities of keyword arguments\n",
    "- Format strings define the style completely, keyword arguments only modify single aspects.  \n",
    "  Compare `plot(x, y, 'x')` vs `plot(x, y, marker='x')`."
   ]
  },
  {
   "cell_type": "markdown",
   "metadata": {},
   "source": [
    "### Default color cycle\n",
    "\n",
    "Matplotlib automatically changes the color if you plot multiple curves.\n",
    "\n",
    "More on that later..."
   ]
  },
  {
   "cell_type": "code",
   "execution_count": null,
   "metadata": {},
   "outputs": [],
   "source": [
    "x = np.linspace(-5, 5, 201)\n",
    "for dx in np.linspace(0, np.pi, 12):\n",
    "    plt.plot(x, np.sin(x - dx) - 0.2 * dx)"
   ]
  },
  {
   "cell_type": "markdown",
   "metadata": {},
   "source": [
    "## Colors\n",
    "\n",
    "There are various ways to specify colors:\n",
    "\n",
    "https://matplotlib.org/stable/tutorials/colors/colors.html\n",
    "\n",
    "https://matplotlib.org/stable/gallery/color/named_colors.html"
   ]
  },
  {
   "cell_type": "code",
   "execution_count": null,
   "metadata": {},
   "outputs": [],
   "source": [
    "plt.plot(x, x, color='b')\n",
    "plt.plot(x + 1, x, color='green')\n",
    "plt.plot(x + 2, x, color='#ff00ff')\n",
    "plt.plot(x + 3, x, color=(1, 0, 0))\n",
    "plt.plot(x + 4, x, color='0.5')\n",
    "plt.plot(x + 5, x, color='mediumseagreen')\n",
    "plt.plot(x + 6, x, color='xkcd:steel blue')\n",
    "plt.plot(x + 7, x, color='C1')"
   ]
  },
  {
   "cell_type": "markdown",
   "metadata": {},
   "source": [
    "`CN` color notation is in particular useful for relating additional plot elements with the data."
   ]
  },
  {
   "cell_type": "code",
   "execution_count": null,
   "metadata": {},
   "outputs": [],
   "source": [
    "plt.plot(x, x)\n",
    "plt.plot(x+1, x)\n",
    "\n",
    "plt.text(-1, 0, 'first color', color='C0', fontsize=16, horizontalalignment='right')\n",
    "plt.text(2, 0, 'second color', color='C1', fontsize=16)"
   ]
  },
  {
   "cell_type": "markdown",
   "metadata": {},
   "source": [
    "## Return values\n",
    "\n",
    "Most of the plotting functions have a return value.\n",
    "\n",
    "Often you don't need it. But it's good to know, and sometimes handy.\n",
    "\n",
    "The returned objects are Artists that define elements in the plot such as lines, etc. See the [Returns section in the docs](https://matplotlib.org/stable/api/_as_gen/matplotlib.axes.Axes.plot.html) for details."
   ]
  },
  {
   "cell_type": "code",
   "execution_count": null,
   "metadata": {},
   "outputs": [],
   "source": [
    "lines = plt.plot(x, np.sin(x))\n",
    "print(lines)\n",
    "lines[0].set_color('0.7')"
   ]
  },
  {
   "cell_type": "markdown",
   "metadata": {},
   "source": [
    "**Note:** `plot()` returns a list of `Line2D` because it can be used in a MATLAB style (not quite recommended because it can get messy)\n",
    "\n",
    "**Hint:** If you have a one-element list, you can use tuple-unpacking to directly store the element in a variable."
   ]
  },
  {
   "cell_type": "code",
   "execution_count": null,
   "metadata": {},
   "outputs": [],
   "source": [
    "lines = plt.plot(x, np.sin(x), x, np.cos(x))\n",
    "print(lines)\n",
    "\n",
    "# 1-element tuple unpacking\n",
    "line, = plt.plot(x, -np.sin(x))"
   ]
  },
  {
   "cell_type": "markdown",
   "metadata": {},
   "source": [
    "## `data` parameter\n",
    "\n",
    "Alternative way for specifying the data for objects that support index-access by names (dicts, structured numpy arrays, pandas DataFrames, ...)"
   ]
  },
  {
   "cell_type": "code",
   "execution_count": null,
   "metadata": {},
   "outputs": [],
   "source": [
    "data = {'x': x, 'sine': np.sin(x), 'cosine': np.cos(x)}\n",
    "\n",
    "plt.plot(data['x'], data['sine'])\n",
    "plt.plot('x', 'cosine', data=data)"
   ]
  },
  {
   "cell_type": "markdown",
   "metadata": {},
   "source": [
    "## Legend\n",
    "\n",
    "- By default, only elements that have labels are added to the legend.\n",
    "- The legend is placed in a best position.\n",
    "- The defaults can be overwritten by providing additional parameters to `legend()`."
   ]
  },
  {
   "cell_type": "code",
   "execution_count": null,
   "metadata": {},
   "outputs": [],
   "source": [
    "x = np.linspace(-10, 4, 201)\n",
    "line, = plt.plot(x, 0.1*x)\n",
    "plt.plot(x, np.sin(x), label='sin(x)')\n",
    "plt.plot(x, 0.5*np.cos(x), label='cos(x)')\n",
    "#line.set_label('x')\n",
    "plt.legend()"
   ]
  },
  {
   "cell_type": "markdown",
   "metadata": {},
   "source": [
    "#### Explicitly defining legend content\n",
    "\n",
    "The automatic label-based content detection for a legend is usually sufficient. However, sometimes you might want to add artists to a legend, that are not part of the axes.\n",
    "\n",
    "In that case, you can explicitly pass lists of Artists and labels to `legend()`."
   ]
  },
  {
   "cell_type": "code",
   "execution_count": null,
   "metadata": {},
   "outputs": [],
   "source": [
    "fig, (ax1, ax2) = plt.subplots(1, 2, sharey=True)\n",
    "line1, = ax1.plot(x, np.sin(x))\n",
    "line2, = ax2.plot(x, 0.5 * np.cos(x), 'C1')\n",
    "\n",
    "ax2.legend([line1, line2], ['a', 'b'])"
   ]
  },
  {
   "cell_type": "markdown",
   "metadata": {},
   "source": [
    "## Categorical bar plots"
   ]
  },
  {
   "cell_type": "code",
   "execution_count": null,
   "metadata": {},
   "outputs": [],
   "source": [
    "# recommended: pass labels as x\n",
    "labels = ['a', 'b', 'c', 'd']\n",
    "plt.bar(labels, x**2)"
   ]
  },
  {
   "cell_type": "markdown",
   "metadata": {},
   "source": [
    "### Example: Multiple bars\n",
    "\n",
    "It's a pain, because you have to position and size them manually.\n",
    "\n",
    "We'll learn better ways later using pandas later."
   ]
  },
  {
   "cell_type": "code",
   "execution_count": null,
   "metadata": {},
   "outputs": [],
   "source": [
    "plt.bar(x-0.2, x**2, width=0.4)\n",
    "plt.bar(x+0.2, (0.5-x)**2, width=0.4)"
   ]
  },
  {
   "cell_type": "markdown",
   "metadata": {},
   "source": [
    "## Other plotting functions\n",
    "\n",
    "See\n",
    "\n",
    "- https://matplotlib.org/stable/plot_types/index.html\n",
    "- https://matplotlib.org/stable/api/axes_api.html"
   ]
  },
  {
   "cell_type": "code",
   "execution_count": null,
   "metadata": {},
   "outputs": [],
   "source": []
  }
 ],
 "metadata": {
  "kernelspec": {
   "display_name": "Python 3 (ipykernel)",
   "language": "python",
   "name": "python3"
  },
  "language_info": {
   "codemirror_mode": {
    "name": "ipython",
    "version": 3
   },
   "file_extension": ".py",
   "mimetype": "text/x-python",
   "name": "python",
   "nbconvert_exporter": "python",
   "pygments_lexer": "ipython3",
   "version": "3.10.4"
  }
 },
 "nbformat": 4,
 "nbformat_minor": 4
}
