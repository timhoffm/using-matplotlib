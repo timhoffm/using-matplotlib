{
 "cells": [
  {
   "cell_type": "code",
   "execution_count": null,
   "metadata": {},
   "outputs": [],
   "source": [
    "%matplotlib inline\n",
    "import matplotlib.pyplot as plt\n",
    "import numpy as np"
   ]
  },
  {
   "cell_type": "markdown",
   "metadata": {},
   "source": [
    "# Changing appearance defaults\n",
    "\n",
    "You've already learned to change properties of plot elements by passing keyword arguments.\n",
    "\n",
    "However, that can be quite lengthy if you want the same changes everytime.\n",
    "Instead, you can change default of many visual properties, which are contained in the config dictionary `rcParams`."
   ]
  },
  {
   "cell_type": "code",
   "execution_count": null,
   "metadata": {},
   "outputs": [],
   "source": [
    "x = np.linspace(-10, 10, 201)\n",
    "\n",
    "plt.rcParams['lines.linewidth'] = 5  # Not recommended: Changes the global state and thus affects future plots (use a context instead - see below)\n",
    "plt.plot(x, np.sin(x))\n",
    "plt.plot(x, np.cos(x))\n",
    "plt.plot(x, -np.sin(x))\n",
    "plt.show()\n",
    "\n",
    "#plt.rcParams['lines.linewidth'] = 1.5\n",
    "\n",
    "plt.plot(x, np.sin(x))"
   ]
  },
  {
   "cell_type": "markdown",
   "metadata": {},
   "source": [
    "### Excursion: Context-Manager\n",
    "\n",
    "Context-Managers are an efficient way of handling init/cleanup code patterns:\n",
    "\n",
    "    initialize_context()\n",
    "    ...\n",
    "    arbitrary code\n",
    "    ...\n",
    "    cleanup_context()\n",
    "\n",
    "\n",
    "This can be written as a context:\n",
    "    \n",
    "    with [context]:\n",
    "        arbitrary code\n",
    "\n",
    "\n",
    "#### Example file reading\n",
    "\n",
    "    f = open('file.txt')\n",
    "    try:\n",
    "        data = f.read()\n",
    "    finally:\n",
    "        f.close()\n",
    "\n",
    "can be written with an open context as:\n",
    "\n",
    "    with open('file.txt') as f:\n",
    "        f.read()\n",
    "    \n",
    "#### Context for matplotlib rcParams\n",
    "\n",
    "    with plt.rc_context(param_dict):\n",
    "        # some plotting"
   ]
  },
  {
   "cell_type": "code",
   "execution_count": null,
   "metadata": {},
   "outputs": [],
   "source": [
    "with plt.rc_context({'lines.linewidth': 5}):\n",
    "    plt.plot(x, np.sin(x))\n",
    "    plt.plot(x, np.cos(x))\n",
    "    plt.plot(x, -np.sin(x))\n",
    "    plt.show()\n",
    "\n",
    "plt.plot(x, np.sin(x))"
   ]
  },
  {
   "cell_type": "markdown",
   "metadata": {},
   "source": [
    "`rcParams` are a global setting. Modify them directly only when your code owns the global state; i.e.\n",
    "\n",
    "- OK: Adapt `rcParams` at the top of a notebook\n",
    "- bad: Adapt `rcParams` in a plotting function\n",
    "- very bad: Adapt `rcParams` in a library\n",
    "\n",
    "So, don't do this:\n",
    "\n",
    "~~~\n",
    "def myplot(x, y):\n",
    "    rcParams['lines.linewidth'] = 5\n",
    "    fig, ax = plt.subplots()\n",
    "    ax.plot(x, y)\n",
    "~~~\n",
    "\n",
    "do this instead:\n",
    "\n",
    "~~~\n",
    "def myplot(x, y):\n",
    "    with plt.rc_context({'lines.linewidth': 5}):\n",
    "        fig, ax = plt.subplots()\n",
    "        ax.plot(x, y)\n",
    "~~~\n"
   ]
  },
  {
   "cell_type": "markdown",
   "metadata": {},
   "source": [
    "## Available rcParams"
   ]
  },
  {
   "cell_type": "code",
   "execution_count": null,
   "metadata": {},
   "outputs": [],
   "source": [
    "plt.rcParams"
   ]
  },
  {
   "cell_type": "markdown",
   "metadata": {},
   "source": [
    "You can use `rcParams.find_all()` to display the subset of parameters matching a string."
   ]
  },
  {
   "cell_type": "code",
   "execution_count": null,
   "metadata": {},
   "outputs": [],
   "source": [
    "plt.rcParams.find_all('marker')"
   ]
  },
  {
   "cell_type": "markdown",
   "metadata": {},
   "source": [
    "## Style Sheets\n",
    "\n",
    "Style sheets are predefined sets of rcParams.\n",
    "\n",
    "https://matplotlib.org/stable/tutorials/introductory/customizing.html\n",
    "\n",
    "https://matplotlib.org/stable/gallery/style_sheets/style_sheets_reference.html"
   ]
  },
  {
   "cell_type": "code",
   "execution_count": null,
   "metadata": {},
   "outputs": [],
   "source": [
    "plt.style.available"
   ]
  },
  {
   "cell_type": "code",
   "execution_count": null,
   "metadata": {},
   "outputs": [],
   "source": [
    "plt.style.use('default')\n",
    "#plt.style.use('seaborn')\n",
    "x = np.linspace(-10, 4, 201)\n",
    "plt.plot(x, 0.1*x)\n",
    "plt.plot(x, np.sin(x), label='sin(x)')\n",
    "plt.plot(x, 0.5*np.cos(x), label='cos(x)')\n",
    "plt.legend()"
   ]
  },
  {
   "cell_type": "markdown",
   "metadata": {},
   "source": [
    "Also styles can be used as context."
   ]
  },
  {
   "cell_type": "code",
   "execution_count": null,
   "metadata": {},
   "outputs": [],
   "source": [
    "y = np.sin(x)\n",
    "\n",
    "with plt.style.context('seaborn'):\n",
    "    plt.plot(x, y)\n",
    "    plt.show()\n",
    "\n",
    "plt.plot(x, y)"
   ]
  },
  {
   "cell_type": "code",
   "execution_count": null,
   "metadata": {},
   "outputs": [],
   "source": []
  }
 ],
 "metadata": {
  "kernelspec": {
   "display_name": "Python 3 (ipykernel)",
   "language": "python",
   "name": "python3"
  },
  "language_info": {
   "codemirror_mode": {
    "name": "ipython",
    "version": 3
   },
   "file_extension": ".py",
   "mimetype": "text/x-python",
   "name": "python",
   "nbconvert_exporter": "python",
   "pygments_lexer": "ipython3",
   "version": "3.10.4"
  }
 },
 "nbformat": 4,
 "nbformat_minor": 4
}
