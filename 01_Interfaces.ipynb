{
 "cells": [
  {
   "cell_type": "markdown",
   "metadata": {},
   "source": [
    "The usual imports:"
   ]
  },
  {
   "cell_type": "code",
   "execution_count": null,
   "metadata": {},
   "outputs": [],
   "source": [
    "%matplotlib inline\n",
    "import matplotlib.pyplot as plt\n",
    "import numpy as np"
   ]
  },
  {
   "cell_type": "markdown",
   "metadata": {},
   "source": [
    "# Interfaces / ways of working\n",
    "\n",
    "## `Axes` interface (object-based)\n",
    "\n",
    "We've already used this.\n",
    "\n",
    "1. Create a `Figure` and one or more `Axes`\n",
    "   (typically using ``plt.subplots()``)\n",
    "2. Configure and add data through methods on these obejcts.\n",
    "\n",
    "When to use:\n",
    "- Simple and more complicated plots (e.g. multiple axes, etc.)\n",
    "- When plotting in a script or library.\n",
    "\n",
    "Example:"
   ]
  },
  {
   "cell_type": "code",
   "execution_count": null,
   "metadata": {},
   "outputs": [],
   "source": [
    "fig, ax = plt.subplots()\n",
    "ax.plot([7, 3, 2])\n",
    "ax.set_ylabel('Number of pintxos')\n",
    "ax.set_ylim(0, None)"
   ]
  },
  {
   "cell_type": "markdown",
   "metadata": {},
   "source": [
    "## `pyplot` interface (function based)\n",
    "\n",
    "Create and manipulate a plot through `pyplot` functions\n",
    "\n",
    "A state based interface. There are notions of a *current figure* and a *current axes*.\n",
    "\n",
    "All function calls apply to the *current* element; i.e. `plt.xlabel('text')` sets the label of the current axes. If you want to set the label of another axes from the `pyplot` interface, you would have to change the current axes first.\n",
    "  \n",
    "When to use:\n",
    "- All `pyplot` functions: Simple plots in an interactive interpreter\n",
    "- Special case: `plt.subplots()` can be generally used to create a basic figure and axes.\n",
    "\n",
    "Example:"
   ]
  },
  {
   "cell_type": "code",
   "execution_count": null,
   "metadata": {},
   "outputs": [],
   "source": [
    "plt.plot([7, 3, 2])\n",
    "plt.ylabel('Number of pintxos')\n",
    "plt.ylim(0, None)"
   ]
  },
  {
   "cell_type": "markdown",
   "metadata": {},
   "source": [
    "## `pylab` interface\n",
    "\n",
    "<div class=\"alert alert-danger\">\n",
    "Immediately forget about this - or better: <b>Remember not to use it.</b>\n",
    "</div>\n",
    "\n",
    "A convenience interface mimicing MATLABs global scope.  \n",
    "\n",
    "<span style='color: red'>Use is strongly discouraged due to namespace pollution!</span> (Loads all of pyplot and numpy into the global name space).\n",
    "\n",
    "When to use:\n",
    "- *Never*\n",
    "\n",
    "This is only still available in Matplotlib for backward compatibility.\n",
    "\n",
    "Example (intentionally not executable):\n",
    "\n",
    "~~~\n",
    "from pylab import *\n",
    "plot([7, 3, 2])\n",
    "ylabel('Number of pintxos')\n",
    "ylim(0, None)\n",
    "~~~"
   ]
  },
  {
   "cell_type": "markdown",
   "metadata": {},
   "source": [
    "## Minimal and pragmatic approach\n",
    "\n",
    "Creating a figure using `plt.figure()` or a figure and axes using `plt.subplots()` is still used in the object-'based approach (but no other `pyplot` functions).\n",
    "\n",
    "<div class=\"alert alert-info\">\n",
    "    <b>Hint:</b> If you just want to learn one interface, use `plt.subplots()` and the object-based approach on the returned figure and axes.\n",
    "</div>"
   ]
  },
  {
   "cell_type": "markdown",
   "metadata": {},
   "source": [
    "## Translating between pyplot and Axes methods \n",
    "\n",
    "- Plotting functions are named identical:  \n",
    "  `plt.plot(...)`, `ax.plot(...)`\n",
    "- Modifying parameters uses setters on the axes, but plain functions in pyplot   \n",
    "  `ax.set_xlim(a, b)` vs. `plt.xlim(a, b)`\n",
    "- Obtaining parameters uses getters on the axes, but plain functions without args (hello MATLAB) in pyplot  \n",
    "  `ax.get_xlim()` vs. `plt.xlim()`\n"
   ]
  },
  {
   "cell_type": "markdown",
   "metadata": {},
   "source": [
    "Simple plot as OOP:\n",
    "\n",
    "<div class=\"alert alert-info\">\n",
    "    <b>Task:</b> Translate the following OOP example to pyplot.\n",
    "</div>"
   ]
  },
  {
   "cell_type": "code",
   "execution_count": null,
   "metadata": {},
   "outputs": [],
   "source": [
    "x = np.linspace(0, 2, 100)\n",
    "\n",
    "fig, ax = plt.subplots()\n",
    "ax.plot(x, x, label='linear')\n",
    "ax.plot(x, x**2, label='quadratic')\n",
    "ax.plot(x, x**3, label='cubic')\n",
    "ax.set_xlabel('x label')\n",
    "ax.set_ylabel('y label')\n",
    "ax.set_title(\"Simple Plot\")\n",
    "ax.legend()"
   ]
  },
  {
   "cell_type": "markdown",
   "metadata": {},
   "source": [
    "Multiple Axes in `pyplot`\n",
    "\n",
    "<div class=\"alert alert-info\">\n",
    "    <b>Task:</b> Translate the following pyplot example to object-based interface.\n",
    "</div>"
   ]
  },
  {
   "cell_type": "code",
   "execution_count": null,
   "metadata": {},
   "outputs": [],
   "source": [
    "plt.subplot(121)\n",
    "plt.plot(x, x)\n",
    "plt.title('linear')\n",
    "\n",
    "plt.subplot(122)\n",
    "plt.plot(x, x**2)\n",
    "plt.title('quadratic')"
   ]
  },
  {
   "cell_type": "markdown",
   "metadata": {},
   "source": [
    "# Summary\n",
    "\n",
    "- Learn the object-based approach first.\n",
    "- `pyplot` can be a convenience for simple quick plots.  \n",
    "  But understand how it works and relates to the underlying objects. - Otherwise it will be confusing."
   ]
  },
  {
   "cell_type": "code",
   "execution_count": null,
   "metadata": {},
   "outputs": [],
   "source": []
  },
  {
   "cell_type": "code",
   "execution_count": null,
   "metadata": {},
   "outputs": [],
   "source": []
  }
 ],
 "metadata": {
  "kernelspec": {
   "display_name": "Python 3 (ipykernel)",
   "language": "python",
   "name": "python3"
  },
  "language_info": {
   "codemirror_mode": {
    "name": "ipython",
    "version": 3
   },
   "file_extension": ".py",
   "mimetype": "text/x-python",
   "name": "python",
   "nbconvert_exporter": "python",
   "pygments_lexer": "ipython3",
   "version": "3.10.4"
  }
 },
 "nbformat": 4,
 "nbformat_minor": 4
}
