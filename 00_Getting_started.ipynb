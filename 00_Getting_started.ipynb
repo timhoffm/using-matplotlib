{
 "cells": [
  {
   "cell_type": "markdown",
   "metadata": {
    "slideshow": {
     "slide_type": "slide"
    }
   },
   "source": [
    "# Effectively using Matplotlib\n",
    "\n",
    "### Tim Hoffmann\n",
    "\n",
    "![](images/matplotlib.png)"
   ]
  },
  {
   "cell_type": "markdown",
   "metadata": {
    "slideshow": {
     "slide_type": "slide"
    }
   },
   "source": [
    "# Prerequisites\n",
    "\n",
    "https://github.com/timhoffm/using-matplotlib\n",
    "\n",
    "### Environment\n",
    "\n",
    "Jupyter plus any recent (>=3.0) matplotlib version will do.  \n",
    "\n",
    "`pip install -r requirements.txt`\n",
    "\n",
    "or \n",
    "\n",
    "`conda env create -f environment.yml`\n",
    "\n",
    "or\n",
    "\n",
    "`conda env create -n using-mpl matplotlib ipympl jupyterlab pandas`"
   ]
  },
  {
   "cell_type": "markdown",
   "metadata": {
    "slideshow": {
     "slide_type": "slide"
    }
   },
   "source": [
    "# About this tutorial\n",
    "\n",
    "Aim: Understand basic concepts of Matplotlib to be able to use it effectively."
   ]
  },
  {
   "cell_type": "markdown",
   "metadata": {},
   "source": [
    "# Should I still learn Matplotlib today?\n",
    "\n",
    "In the early days, Matplotlib was the only visualization library.\n",
    "\n",
    "Today there are other great tools as well (notably web-based libraries like `bokeh` and `plotly`).\n",
    "\n",
    "> No one tool fulfills all needs.\n",
    "\n",
    "## Key reasons for Matplotlib:\n",
    "\n",
    "\n",
    "- very flexible - you can plot almost anything\n",
    "\n",
    "- available everywhere\n",
    "\n",
    "- foundation for special-purpose libraries (seaborn, cartopy, ...)\n",
    "\n",
    "- various backends:   \n",
    "  PNG, PDF, SVG, embed in notebooks, embed in GUI applications, ...\n",
    "\n",
    "- plotting interface for pandas\n",
    "\n",
    "- there's a lot of Matplotlib code out there."
   ]
  },
  {
   "cell_type": "markdown",
   "metadata": {
    "slideshow": {
     "slide_type": "slide"
    }
   },
   "source": [
    "# A Bit of History\n",
    "\n",
    "https://matplotlib.org/stable/users/history.html\n",
    "\n",
    "John D. Hunter first released Matplotlib in 2003."
   ]
  },
  {
   "cell_type": "markdown",
   "metadata": {
    "slideshow": {
     "slide_type": "slide"
    }
   },
   "source": [
    "## Original design goal:\n",
    "\n",
    "Emulate MATLAB's plotting capabilities\n",
    "\n",
    "### Requirements:\n",
    "\n",
    "- Publication quality plots\n",
    "- Postscript output for inclusion with TeX documents\n",
    "- Embeddable in a graphical user interface for application development\n",
    "- Code should be easy to understand\n",
    "- Making plots should be easy"
   ]
  },
  {
   "cell_type": "markdown",
   "metadata": {},
   "source": [
    "## Today's Matplotlib Mission Statement\n",
    "\n",
    "The Matplotlib developer community develops, maintains, and supports Matplotlib and its extensions to provide data visualization tools for the Scientific Python Ecosystem.\n",
    "\n",
    "Adapting the requirements laid out by John Hunter Matplotlib should:\n",
    "\n",
    "- Support users of the Scientific Python ecosystem;\n",
    "- **Facilitate interactive data exploration**;\n",
    "- Produce high-quality raster and vector format outputs suitable for publication;\n",
    "- Provide a simple graphical user interface and support embedding in applications;\n",
    "- Be understandable and extensible by people familiar with data processing in Python;\n",
    "- Make common plots easy, and novel or complex visualizations possible.\n",
    "\n",
    "We believe that a diverse developer community creates the best software, and we welcome anyone who shares our mission, and our values described in the code of conduct.\n",
    "\n",
    "https://matplotlib.org/devdocs/users/project/mission.html"
   ]
  },
  {
   "cell_type": "markdown",
   "metadata": {
    "slideshow": {
     "slide_type": "slide"
    }
   },
   "source": [
    "## Development is a continuous evoltion\n",
    "\n",
    "- We care a lot about stability: Your plots will not break or change if you update Matplotlib. - At least not without prior warning.\n",
    "- We move Matplotlib forward to better fulfill our mission statement"
   ]
  },
  {
   "cell_type": "markdown",
   "metadata": {
    "slideshow": {
     "slide_type": "slide"
    }
   },
   "source": [
    "### Development status\n",
    "\n",
    "- one of the largest python libraries\n",
    "\n",
    "- continued active development\n",
    "\n",
    "![](images/usage.png)\n",
    "\n",
    "![](images/contributions.png)"
   ]
  },
  {
   "cell_type": "markdown",
   "metadata": {
    "slideshow": {
     "slide_type": "slide"
    }
   },
   "source": [
    "# Getting started"
   ]
  },
  {
   "cell_type": "markdown",
   "metadata": {
    "slideshow": {
     "slide_type": "-"
    }
   },
   "source": [
    "In notebooks, use the `%matplotlib` IPython magic to display plots inline.\n",
    "\n",
    "*Note:* `%matplotlib inline` is for simple static graphics. Alternatives: `%matplotlib ipympl` (or equivalent `%matplotlib widget`) for interactive plots. More later..."
   ]
  },
  {
   "cell_type": "code",
   "execution_count": 1,
   "metadata": {
    "slideshow": {
     "slide_type": "-"
    }
   },
   "outputs": [],
   "source": [
    "%matplotlib inline"
   ]
  },
  {
   "cell_type": "markdown",
   "metadata": {
    "slideshow": {
     "slide_type": "-"
    }
   },
   "source": [
    "The canonical import for Matplotlib:"
   ]
  },
  {
   "cell_type": "code",
   "execution_count": 2,
   "metadata": {
    "slideshow": {
     "slide_type": "-"
    }
   },
   "outputs": [],
   "source": [
    "import matplotlib.pyplot as plt"
   ]
  },
  {
   "cell_type": "markdown",
   "metadata": {
    "slideshow": {
     "slide_type": "slide"
    }
   },
   "source": [
    "A simple plot:\n",
    "\n",
    "- Create a `Figure` and an `Axes`\n",
    "- Plot your data into the `Axes`"
   ]
  },
  {
   "cell_type": "code",
   "execution_count": 3,
   "metadata": {
    "slideshow": {
     "slide_type": "fragment"
    }
   },
   "outputs": [
    {
     "data": {
      "text/plain": [
       "[<matplotlib.lines.Line2D at 0x7fba301f9090>]"
      ]
     },
     "execution_count": 3,
     "metadata": {},
     "output_type": "execute_result"
    },
    {
     "data": {
      "image/png": "[encoded data removed]",
      "text/plain": [
       "<Figure size 432x288 with 1 Axes>"
      ]
     },
     "metadata": {
      "needs_background": "light"
     },
     "output_type": "display_data"
    }
   ],
   "source": [
    "fig, ax = plt.subplots()\n",
    "ax.plot([1, 3, 2])"
   ]
  },
  {
   "cell_type": "markdown",
   "metadata": {
    "slideshow": {
     "slide_type": "skip"
    }
   },
   "source": [
    "<div class=\"alert alert-warning\">\n",
    "Looks easy, but a lot of magic is happening in the background.\n",
    "</div>\n",
    "\n",
    "- Decides on an appropriate backend (on first rendering) \n",
    "- Creates a Figure (if none exists)\n",
    "- Creates an Axes (if none exists)\n",
    "- Adds Artists to the Axes\n",
    "- Renders the Artists to the backend\n",
    "\n",
    "<div class=\"alert alert-info\">\n",
    "With great power comes great responsibility:\n",
    "<br/>\n",
    "Magic is only good, if you know the effect of your spells.\n",
    "</div>\n",
    "\n",
    "Let's lock away pyplot for now."
   ]
  },
  {
   "cell_type": "markdown",
   "metadata": {
    "slideshow": {
     "slide_type": "fragment"
    }
   },
   "source": [
    "<div class=\"alert alert-info\">\n",
    "    <b>Hint:</b> Suppressing output\n",
    "</div>\n",
    "Many functions in Matplotlib return some data, which is not always needed.\n",
    "\n",
    "Jupyter outputs the result of the last expression. To prevent the output append a semicolon:\n",
    "\n",
    "   `ax.plot([1, 3, 2]);`"
   ]
  },
  {
   "cell_type": "markdown",
   "metadata": {
    "slideshow": {
     "slide_type": "slide"
    }
   },
   "source": [
    "# Basic elements of a plot\n",
    "\n",
    "- **Figure**:  \n",
    "  The outermost container for a matplotlib graphic.\n",
    "- **Axes**:  \n",
    "  A container for as single plot (line or scatter plot (y vs. x), a pseudo-color plot, etc.)\n",
    "- **Axis**:  \n",
    "  Direction with a scale.  \n",
    "  *Note:* This is *not* the line.\n",
    "- **Spines**:  \n",
    "  Axis lines.\n",
    "- **Artist**:  \n",
    "  Visible elements on the canvas: Lines, Rectangles, Text, Ticks, Axes, ...\n",
    "  \n",
    "Let's highlight the respective parts of the plot:"
   ]
  },
  {
   "cell_type": "code",
   "execution_count": 4,
   "metadata": {
    "slideshow": {
     "slide_type": "slide"
    }
   },
   "outputs": [
    {
     "data": {
      "image/png": "[encoded data removed]",
      "text/plain": [
       "<Figure size 432x288 with 1 Axes>"
      ]
     },
     "metadata": {},
     "output_type": "display_data"
    }
   ],
   "source": [
    "fig, ax = plt.subplots()\n",
    "fig.set_facecolor('royalblue')\n",
    "ax.set_facecolor('yellowgreen')\n",
    "ax.xaxis.set_tick_params(colors='white', gridOn=True, grid_color='fuchsia')\n",
    "ax.spines['left'].set_color('orange')\n",
    "ax.spines['left'].set_linewidth(3)"
   ]
  },
  {
   "cell_type": "markdown",
   "metadata": {
    "slideshow": {
     "slide_type": "slide"
    }
   },
   "source": [
    "## Basic usage pattern\n",
    "\n",
    "- Create a figure and one or more axes\n",
    "- draw the data into the axes\n",
    "- configure further plot properties"
   ]
  },
  {
   "cell_type": "code",
   "execution_count": 5,
   "metadata": {},
   "outputs": [],
   "source": [
    "import numpy as np\n",
    "\n",
    "# prepare some data\n",
    "N = 100\n",
    "t = np.linspace(0, 60, N)\n",
    "temperature = 0.008 *t + 0.1 * np.random.random(N) + 23"
   ]
  },
  {
   "cell_type": "code",
   "execution_count": 6,
   "metadata": {},
   "outputs": [
    {
     "data": {
      "text/plain": [
       "Text(0, 0.5, 'Temperature')"
      ]
     },
     "execution_count": 6,
     "metadata": {},
     "output_type": "execute_result"
    },
    {
     "data": {
      "image/png": "[encoded data removed]",
      "text/plain": [
       "<Figure size 432x288 with 1 Axes>"
      ]
     },
     "metadata": {
      "needs_background": "light"
     },
     "output_type": "display_data"
    }
   ],
   "source": [
    "# create a figure and one or more axes\n",
    "fig, ax = plt.subplots()\n",
    "\n",
    "# draw the data into the axes\n",
    "ax.plot(t, temperature)\n",
    "\n",
    "# configure further plot properties\n",
    "ax.set_xlabel('Time')\n",
    "ax.set_ylabel('Temperature')"
   ]
  },
  {
   "cell_type": "markdown",
   "metadata": {},
   "source": [
    "Most of the plotting and configuration is performed using Axes methods.\n",
    "\n",
    "See https://matplotlib.org/stable/api/axes_api.html"
   ]
  },
  {
   "cell_type": "markdown",
   "metadata": {},
   "source": [
    "<div class=\"alert alert-info\">\n",
    "    <b>Task:</b> Extend the above plot.\n",
    "</div>\n",
    "\n",
    "- Add a title \"It's getting warm\" (use `ax.set_title(name)`)\n",
    "- Set the y-limit to the range 22..24 (use `ax.set_ylim(min, max)`)"
   ]
  },
  {
   "cell_type": "code",
   "execution_count": null,
   "metadata": {},
   "outputs": [],
   "source": []
  }
 ],
 "metadata": {
  "celltoolbar": "Slideshow",
  "kernelspec": {
   "display_name": "Python 3 (ipykernel)",
   "language": "python",
   "name": "python3"
  },
  "language_info": {
   "codemirror_mode": {
    "name": "ipython",
    "version": 3
   },
   "file_extension": ".py",
   "mimetype": "text/x-python",
   "name": "python",
   "nbconvert_exporter": "python",
   "pygments_lexer": "ipython3",
   "version": "3.10.4"
  }
 },
 "nbformat": 4,
 "nbformat_minor": 4
}
