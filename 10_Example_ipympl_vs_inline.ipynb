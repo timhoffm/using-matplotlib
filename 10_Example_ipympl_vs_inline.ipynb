{
 "cells": [
  {
   "cell_type": "markdown",
   "id": "538ad7a6-63f7-4820-91d4-b412bc3e0515",
   "metadata": {},
   "source": [
    "# Choosing the backend in notebooks\n",
    "\n",
    "The standard backend `inline` shows static plots.\n",
    "\n",
    "If you install `ipympl`, you can use "
   ]
  },
  {
   "cell_type": "code",
   "execution_count": null,
   "id": "de25e0d0-519e-4848-9f95-fd6188160517",
   "metadata": {},
   "outputs": [],
   "source": [
    "%matplotlib inline"
   ]
  },
  {
   "cell_type": "code",
   "execution_count": null,
   "id": "5bdbcc54-7be8-40e7-a130-c27b5be54099",
   "metadata": {},
   "outputs": [],
   "source": [
    "import matplotlib.pyplot as plt"
   ]
  },
  {
   "cell_type": "code",
   "execution_count": null,
   "id": "80960cf7-d03d-4edb-a27c-c1dde053eab9",
   "metadata": {},
   "outputs": [],
   "source": [
    "plt.plot([1, 3, 2], 'o-')"
   ]
  },
  {
   "cell_type": "code",
   "execution_count": null,
   "id": "e2e7b7ce-6010-4977-8c53-3ed277142761",
   "metadata": {},
   "outputs": [],
   "source": [
    "%matplotlib ipympl"
   ]
  },
  {
   "cell_type": "code",
   "execution_count": null,
   "id": "68e074f4-3e60-4881-a1fc-1646c740214c",
   "metadata": {},
   "outputs": [],
   "source": [
    "plt.plot([1, 3, 2], 'o-')"
   ]
  },
  {
   "cell_type": "code",
   "execution_count": null,
   "id": "ab1bd308-c3ab-4cd8-9f68-148f9a157c26",
   "metadata": {},
   "outputs": [],
   "source": [
    "%matplotlib inline"
   ]
  },
  {
   "cell_type": "code",
   "execution_count": null,
   "id": "f85f119c-6ddd-401e-9814-cd141bad3e06",
   "metadata": {},
   "outputs": [],
   "source": [
    "plt.plot([1, 3, 2], 'o-')"
   ]
  },
  {
   "cell_type": "markdown",
   "id": "24dd98e8-2e5b-4f1e-944e-d00884c8855b",
   "metadata": {},
   "source": [
    "<div class=\"alert alert-success\">\n",
    "    <b>Note:</b> Fundamental difference to web-based plotting libraries (bokeh, plotly)\n",
    "</div>\n",
    "\n",
    "- Matplotlib / ipympl render the figure in the backend.\n",
    "- Web-based libraries render in the front-end. - I.e. need to transfer all data to the browser.\n",
    "\n",
    "  **Pro**: Better interactivity.  \n",
    "  **Con**: Can be slow for large datasets."
   ]
  },
  {
   "cell_type": "code",
   "execution_count": null,
   "id": "58064d21-7e15-41b5-8035-397741f28cd6",
   "metadata": {},
   "outputs": [],
   "source": []
  }
 ],
 "metadata": {
  "kernelspec": {
   "display_name": "Python 3 (ipykernel)",
   "language": "python",
   "name": "python3"
  },
  "language_info": {
   "codemirror_mode": {
    "name": "ipython",
    "version": 3
   },
   "file_extension": ".py",
   "mimetype": "text/x-python",
   "name": "python",
   "nbconvert_exporter": "python",
   "pygments_lexer": "ipython3",
   "version": "3.10.4"
  }
 },
 "nbformat": 4,
 "nbformat_minor": 5
}
